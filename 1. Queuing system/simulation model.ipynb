{
 "cells": [
  {
   "cell_type": "code",
   "execution_count": 1,
   "metadata": {},
   "outputs": [],
   "source": [
    "# импортируем необходимые библиотеки\n",
    "import numpy as np\n",
    "import random\n",
    "import matplotlib.pyplot as plt"
   ]
  },
  {
   "cell_type": "markdown",
   "metadata": {},
   "source": [
    "# Part 1"
   ]
  },
  {
   "cell_type": "code",
   "execution_count": 2,
   "metadata": {},
   "outputs": [],
   "source": [
    "# Функционирование системы. Вероятность потери клиента.\n",
    "\n",
    "def system1(T_max):\n",
    "\n",
    "    l = 5 # интенсивность входящего потока\n",
    "    m = 2 # интенсивоность обслуживания\n",
    "    g = 1 # количсевто нетерпеливых клиентов в ед. времени\n",
    "    n = 4 # количество каналов\n",
    "    \n",
    "    opT = 0 # время работы системы\n",
    "    T0 = 0 # момент прихода очередной заявки\n",
    "    Tk = np.zeros(n) # очередные моменты освобождения k-ого канала\n",
    "    \n",
    "    ac = 0 # всего клиентов\n",
    "    ic = 0 # количесвто нетерпеливых клиентов\n",
    "    nsc = 0 # количество необслуженных клиентов\n",
    "    sc = 0 # количество обслуженных клиентов: sc=ac-ic-nsc\n",
    "    \n",
    "    while True:\n",
    "        \n",
    "        T0 = random.expovariate(lambd=l) # пришла заявка\n",
    "        opT += T0\n",
    "        if opT >= T_max:\n",
    "            sc = ac - ic - nsc\n",
    "            break\n",
    "        \n",
    "        ac += 1\n",
    "\n",
    "        # функционирование системы\n",
    "        t = min(opT, min(Tk))\n",
    "        if t == min(Tk): # канал освободился?\n",
    "            i = np.nonzero(Tk < opT)[0][0]\n",
    "            Tk[i] = opT + random.expovariate(lambd=m)\n",
    "            if Tk[i] > T_max:\n",
    "                nsc += 1\n",
    "\n",
    "        else: # свободных каналов нет\n",
    "            wt = random.expovariate(lambd=g)\n",
    "            if wt + opT < min(Tk): # до освобождения канала больше времени, \n",
    "                                  # чем готов ждать нетерпеливый клиент?\n",
    "                ic += 1\n",
    "\n",
    "            else: # нетерпеливый клиент успеет обслужиться\n",
    "                j = np.argmin(Tk)\n",
    "                Tk[j] += random.expovariate(lambd=m)\n",
    "                if Tk[j] > T_max:\n",
    "                    nsc += 1\n",
    "            \n",
    "    return ic / ac"
   ]
  },
  {
   "cell_type": "code",
   "execution_count": 3,
   "metadata": {},
   "outputs": [
    {
     "name": "stdout",
     "output_type": "stream",
     "text": [
      "Вероятность потери клиента, Plc = 0.04855702083475444\n"
     ]
    }
   ],
   "source": [
    "Plc = 0\n",
    "for i in range(100):\n",
    "    Plc += system1(10000) / 100\n",
    "print('Вероятность потери клиента, Plc =', Plc)"
   ]
  },
  {
   "cell_type": "markdown",
   "metadata": {},
   "source": [
    "# Part 2"
   ]
  },
  {
   "cell_type": "code",
   "execution_count": 4,
   "metadata": {},
   "outputs": [],
   "source": [
    "# Доход. Срок окупаемости. Нетерпеливые клиенты.\n",
    "\n",
    "def system2(T_max):\n",
    "\n",
    "    l = 12 # интенсивность входящего потока\n",
    "    m = 2 # интенсивоность обслуживания\n",
    "    g = 5 # количсевто нетерпеливых клиентов в ед. времени\n",
    "    n = 4 # количество каналов\n",
    "    \n",
    "    S = 5000 # начальный капитал\n",
    "    c0 = 7 # прибыль за обслуживание одной заявки\n",
    "    c1 = 5 # штраф за уход требования\n",
    "    c2 = 3 # штраф в единицу времени за ожидание заявки\n",
    "    c3 = 20 # затраты в единицу времени на обслуживание приборов\n",
    "    income = 0\n",
    "    \n",
    "    opT = 0 # время работы системы\n",
    "    T0 = 0 # момент прихода очередной заявки\n",
    "    Tk = np.zeros(n) # очередные моменты освобождения k-ого канала\n",
    "    \n",
    "    ac = 0\n",
    "    ic = 0\n",
    "    \n",
    "    while True:\n",
    "        \n",
    "        T0 = random.expovariate(lambd=l)\n",
    "        opT += T0\n",
    "        if opT >= T_max or income >= S:\n",
    "            break\n",
    "        \n",
    "        ac += 1\n",
    "        income -= T0 * c3 # затраты на обслуживание системы\n",
    "\n",
    "        # функционирование системы\n",
    "        t = min(opT, min(Tk))        \n",
    "        if t == min(Tk): # канал освободился?\n",
    "            i = np.nonzero(Tk < opT)[0][0]\n",
    "            Tk[i] = opT + random.expovariate(lambd=m)\n",
    "            income += c0 # прибыль за обслуживание\n",
    "\n",
    "        else: # свободных каналов нет\n",
    "            wt = random.expovariate(lambd=g)\n",
    "            if wt + opT < min(Tk): # до освобождения канала больше времени, \n",
    "                                   # чем готов ждать нетерпеливый клиент?\n",
    "                ic += 1\n",
    "                income -= c1 # штраф за ушедшего клиента\n",
    "                income -= wt * c2 # штраф за ожидание в очереди\n",
    "\n",
    "            else: # нетерпеливый клиент успеет обслужиться\n",
    "                income -= (min(Tk) - opT) * c2 # штраф за ожидание в очереди\n",
    "                j = np.argmin(Tk)\n",
    "                Tk[j] += random.expovariate(lambd=m)\n",
    "                income += c0 # прибыль за обслуживание\n",
    "            \n",
    "    return income, opT, ic / ac"
   ]
  },
  {
   "cell_type": "code",
   "execution_count": 5,
   "metadata": {},
   "outputs": [],
   "source": [
    "# S = []; T = []; C = []\n",
    "# for i in range(1000):\n",
    "#     s1, t1, c1, = system2(10000)\n",
    "#     S.append(s1); T.append(t1); C.append(c1)\n",
    "# print('Полученный доход S =', sum(S) / 1000)\n",
    "# print('Средний срок окупаемости T =', sum(T) / 1000)\n",
    "# print('Доля нетерпеливых клиентов Pic =', sum(C) / 1000)"
   ]
  },
  {
   "cell_type": "code",
   "execution_count": 6,
   "metadata": {},
   "outputs": [
    {
     "name": "stdout",
     "output_type": "stream",
     "text": [
      "Полученный доход S = 5002.237105650275\n",
      "Средний срок окупаемости T = 1586.1248102573152\n",
      "Доля нетерпеливых клиентов Pic = 0.4012137872177261\n"
     ]
    }
   ],
   "source": [
    "S = []; T = []; C = []\n",
    "for i in range(100):\n",
    "    s1, t1, c1, = system2(5000)\n",
    "    S.append(s1); T.append(t1); C.append(c1)\n",
    "print('Полученный доход S =', sum(S) / 100)\n",
    "print('Средний срок окупаемости T =', sum(T) / 100)\n",
    "print('Доля нетерпеливых клиентов Pic =', sum(C) / 100)"
   ]
  },
  {
   "cell_type": "markdown",
   "metadata": {},
   "source": [
    "# Part 3"
   ]
  },
  {
   "cell_type": "code",
   "execution_count": 7,
   "metadata": {},
   "outputs": [],
   "source": [
    "# Доход. Срок окупаемости. Управление.\n",
    "\n",
    "def system3(threshold, T_max):\n",
    "\n",
    "    l = 12 # интенсивность входящего потока\n",
    "    m = 2 # интенсивоность обслуживания\n",
    "    g = 5 # количсевто нетерпеливых клиентов в ед. времени\n",
    "    n = 4 # количество каналов\n",
    "    \n",
    "    S = 5000 # начальный капитал\n",
    "    c0 = 7 # прибыль за обслуживание одной заявки\n",
    "    c1 = 5 # штраф за уход требования\n",
    "    c2 = 3 # штраф в единицу времени за ожидание заявки\n",
    "    c3 = 20 # затраты в единицу времени на обслуживание приборов\n",
    "    c4 = 2 # штраф за недопуск заявки в систему\n",
    "    income = 0\n",
    "    \n",
    "    opT = 0 # время работы системы\n",
    "    T0 = 0 # момент прихода очередной заявки\n",
    "    Tk = np.zeros(n) # очередные моменты освобождения k-ого канала\n",
    "    \n",
    "    state = [0, 0] # количество заявок на каналах и в очереди \n",
    "                   # перед приходом очередного требования\n",
    "    L = 0 # длина очереди\n",
    "    mQ = [] # время ухода клиента из очереди\n",
    "    \n",
    "    pk = 0 # вероятность допуска заявки в систему\n",
    "    \n",
    "    ac = 0 # всего клиентов\n",
    "    ic = 0 # нетерпеливые клиенты\n",
    "    rc = 0 # недопущенные к обслуживанию клиенты\n",
    "    \n",
    "    while True:\n",
    "        \n",
    "        # определение состояния системы\n",
    "        if L == 0: # очередь пуста?\n",
    "            state[0] = n - np.nonzero(Tk <= opT)[0].size # всего - свободные\n",
    "            state[1] = L # длина очереди 0\n",
    "        \n",
    "        else: # очередь не пуста\n",
    "            i = np.nonzero(np.array(mQ) <= opT)[0]\n",
    "            j = np.nonzero(np.array(mQ) <= opT)[0].size\n",
    "            mQ = list(np.delete(mQ, i))\n",
    "            L -= j\n",
    "            state[0] = n\n",
    "            state[1] = L        \n",
    "        \n",
    "        T0 = random.expovariate(lambd=l)\n",
    "        opT += T0\n",
    "        if opT >= T_max or income >= S:\n",
    "            break\n",
    "        \n",
    "        ac += 1\n",
    "        income -= T0 * c3 # затраты на обслуживание системы\n",
    "        \n",
    "        # управление\n",
    "        if sum(state) < threshold:\n",
    "            pk = 1\n",
    "        else:\n",
    "            pk = 0\n",
    "        if pk == 0:\n",
    "            income -= c4\n",
    "            rc += 1\n",
    "            continue\n",
    "        \n",
    "        # функционирование системы\n",
    "        t = min(opT, min(Tk))        \n",
    "        if t == min(Tk): # канал освободился?\n",
    "            i = np.nonzero(Tk < opT)[0][0]\n",
    "            Tk[i] = opT + random.expovariate(lambd=m)\n",
    "            income += c0 # прибыль за обслуживание\n",
    "\n",
    "        else: # свободных каналов нет\n",
    "            L += 1\n",
    "            wt = random.expovariate(lambd=g)\n",
    "            if wt + opT < min(Tk): # до освобождения канала больше времени, \n",
    "                                   # чем готов ждать нетерпеливый клиент?\n",
    "                income -= c1 # штраф за ушедшего клиента\n",
    "                income -= wt * c2 # штраф за ожидание в очереди\n",
    "                mQ.append(wt + opT)\n",
    "                ic += 1\n",
    "\n",
    "            else: # нетерпеливый клиент успеет обслужиться\n",
    "                income -= (min(Tk) - opT) * c2 # штраф за ожидание в очереди\n",
    "                income += c0 # прибыль за обслуживание\n",
    "                \n",
    "                j = np.argmin(Tk)\n",
    "                Tk[j] += random.expovariate(lambd=m)\n",
    "                \n",
    "                mQ.append(min(Tk))\n",
    "            \n",
    "    return income, opT, ic / ac, rc"
   ]
  },
  {
   "cell_type": "code",
   "execution_count": 8,
   "metadata": {},
   "outputs": [
    {
     "name": "stdout",
     "output_type": "stream",
     "text": [
      "Please, wait... Code: 5\n",
      "Please, wait... Code: 6\n",
      "Please, wait... Code: 7\n",
      "Please, wait... Code: 8\n",
      "Please, wait... Code: 9\n",
      "Please, wait... Code: 10\n",
      "Please, wait... Code: 11\n",
      "Please, wait... Code: 12\n",
      "Please, wait... Code: 13\n",
      "Please, wait... Code: 14\n",
      "Please, wait... Code: 15\n",
      "[522.1134620246349, 502.1518144999392, 554.3766809427323, 724.4319140286404, 999.1357756151325, 1269.5724482817757, 1399.838115548707, 1538.4313113342814, 1517.294023231765, 1546.358762479719, 1575.5632087314245]\n"
     ]
    }
   ],
   "source": [
    "arr = []\n",
    "for i in range(5, 16):\n",
    "    print('Please, wait... Code:', i)\n",
    "    t = 0\n",
    "    for j in range(100):\n",
    "        t += system3(i, 2000)[1] / 100\n",
    "    arr.append(t)\n",
    "print(arr)"
   ]
  },
  {
   "cell_type": "code",
   "execution_count": 9,
   "metadata": {},
   "outputs": [
    {
     "data": {
      "image/png": "[encoded data removed]",
      "text/plain": [
       "<Figure size 720x360 with 1 Axes>"
      ]
     },
     "metadata": {
      "needs_background": "light"
     },
     "output_type": "display_data"
    }
   ],
   "source": [
    "x = np.arange(5, 16)\n",
    "plt.figure(figsize=(10, 5))\n",
    "plt.plot(x, arr, 'bo')\n",
    "plt.plot(x, arr, 'r-')\n",
    "plt.xlabel('Порог (стратегия)')\n",
    "plt.ylabel('Срок окупаемости')\n",
    "plt.grid()\n",
    "plt.show()"
   ]
  },
  {
   "cell_type": "code",
   "execution_count": null,
   "metadata": {},
   "outputs": [],
   "source": []
  }
 ],
 "metadata": {
  "kernelspec": {
   "display_name": "Python 3",
   "language": "python",
   "name": "python3"
  },
  "language_info": {
   "codemirror_mode": {
    "name": "ipython",
    "version": 3
   },
   "file_extension": ".py",
   "mimetype": "text/x-python",
   "name": "python",
   "nbconvert_exporter": "python",
   "pygments_lexer": "ipython3",
   "version": "3.8.3"
  }
 },
 "nbformat": 4,
 "nbformat_minor": 4
}
